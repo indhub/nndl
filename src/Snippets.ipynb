{
 "cells": [
  {
   "cell_type": "code",
   "execution_count": null,
   "metadata": {
    "collapsed": true
   },
   "outputs": [],
   "source": [
    "import numpy as np"
   ]
  },
  {
   "cell_type": "markdown",
   "metadata": {},
   "source": [
    "**1. Create an array of array of random numbers between:**\n",
    "\n",
    "```\n",
    "Input: [1, 2, 3]\n",
    "\n",
    "Output:\n",
    "[\n",
    "\n",
    "array( [[ 0.64700694]] ), \n",
    "\n",
    "array( [[-0.26566962], [ 0.7133554 ]] ), \n",
    "\n",
    "array( [[-0.264033  ], [-0.60372951], [-2.35147613]] )\n",
    "\n",
    "]\n",
    "```"
   ]
  },
  {
   "cell_type": "code",
   "execution_count": null,
   "metadata": {
    "collapsed": false
   },
   "outputs": [],
   "source": [
    "sizes = [1,2,3]\n",
    "r = [np.random.randn(x, 1) for x in sizes]\n",
    "print r"
   ]
  },
  {
   "cell_type": "markdown",
   "metadata": {},
   "source": [
    "**2. Create an array of 1x1, 2x2, 3x4 matrices with random numbers**"
   ]
  },
  {
   "cell_type": "code",
   "execution_count": null,
   "metadata": {
    "collapsed": false
   },
   "outputs": [],
   "source": [
    "heights = [1, 2, 3]\n",
    "widths = [1, 2, 4]\n",
    "r = [np.random.randn(y, x) for x, y in zip(heights, widths)]\n",
    "print r"
   ]
  },
  {
   "cell_type": "markdown",
   "metadata": {},
   "source": [
    "**3. Compute dot product of input x and weights w and add bias b.**"
   ]
  },
  {
   "cell_type": "code",
   "execution_count": null,
   "metadata": {
    "collapsed": false
   },
   "outputs": [],
   "source": [
    "x = [10, 20, 33]\n",
    "w = [[1,2,3],[4,5,6]]\n",
    "b = [7,8]\n",
    "r = np.dot(w, x)\n",
    "print r"
   ]
  },
  {
   "cell_type": "code",
   "execution_count": null,
   "metadata": {
    "collapsed": true
   },
   "outputs": [],
   "source": []
  }
 ],
 "metadata": {
  "kernelspec": {
   "display_name": "Python 2",
   "language": "python",
   "name": "python2"
  },
  "language_info": {
   "codemirror_mode": {
    "name": "ipython",
    "version": 2
   },
   "file_extension": ".py",
   "mimetype": "text/x-python",
   "name": "python",
   "nbconvert_exporter": "python",
   "pygments_lexer": "ipython2",
   "version": "2.7.13"
  }
 },
 "nbformat": 4,
 "nbformat_minor": 2
}
